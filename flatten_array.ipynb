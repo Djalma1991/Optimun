{
  "nbformat": 4,
  "nbformat_minor": 0,
  "metadata": {
    "colab": {
      "name": "flatten_array.ipynb",
      "provenance": [],
      "collapsed_sections": [],
      "include_colab_link": true
    },
    "kernelspec": {
      "name": "python3",
      "display_name": "Python 3"
    }
  },
  "cells": [
    {
      "cell_type": "markdown",
      "metadata": {
        "id": "view-in-github",
        "colab_type": "text"
      },
      "source": [
        "<a href=\"https://colab.research.google.com/github/Djalma1991/Optimun/blob/master/flatten_array.ipynb\" target=\"_parent\"><img src=\"https://colab.research.google.com/assets/colab-badge.svg\" alt=\"Open In Colab\"/></a>"
      ]
    },
    {
      "cell_type": "code",
      "metadata": {
        "id": "zWo4vm30ueT2",
        "colab_type": "code",
        "outputId": "0f5f14de-651a-481a-94a0-0d593486b3c9",
        "colab": {
          "base_uri": "https://localhost:8080/",
          "height": 51
        }
      },
      "source": [
        "# output list \n",
        "output = []\n",
        "def flatten(l): \n",
        "    for i in l: \n",
        "        if type(i) == list: \n",
        "            flatten(i) \n",
        "        else: \n",
        "            if i is not None:\n",
        "                output.append(i) \n",
        "    print ('A nova lista é:', output)"
      ],
      "execution_count": 0,
      "outputs": [
        {
          "output_type": "stream",
          "text": [
            "The original list:  [1, [2, 3, None, 4], [None], 5]\n",
            "The list after removing nesting:  [1, 2, 3, 4, 5]\n"
          ],
          "name": "stdout"
        }
      ]
    }
  ]
}